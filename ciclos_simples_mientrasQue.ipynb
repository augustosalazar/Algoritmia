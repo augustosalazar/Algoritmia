{
  "nbformat": 4,
  "nbformat_minor": 0,
  "metadata": {
    "colab": {
      "name": "ciclos simples -  mientrasQue.ipynb",
      "provenance": [],
      "collapsed_sections": [],
      "toc_visible": true,
      "include_colab_link": true
    },
    "kernelspec": {
      "name": "python3",
      "display_name": "Python 3"
    }
  },
  "cells": [
    {
      "cell_type": "markdown",
      "metadata": {
        "id": "view-in-github",
        "colab_type": "text"
      },
      "source": [
        "<a href=\"https://colab.research.google.com/github/augustosalazar/Algoritmia/blob/master/ciclos_simples_mientrasQue.ipynb\" target=\"_parent\"><img src=\"https://colab.research.google.com/assets/colab-badge.svg\" alt=\"Open In Colab\"/></a>"
      ]
    },
    {
      "cell_type": "markdown",
      "metadata": {
        "id": "gMkh_Os96yGd",
        "colab_type": "text"
      },
      "source": [
        "# Ciclos simples\n",
        "\n",
        "Un ciclo es una estructura algorítmica que nos permite ejecutar una acción hasta que una condición se cumpla. Esta condición puede ser tan sencilla como verificar que el número de iteraciones no sobrepase un limite puesto por el problema o una más compleja que dependa de múltiples variables y entradas de usuario.\n",
        "\n",
        "Vamos a comenzar por la forma más simple, en la que vamos a realizar la acción un número N de veces. En este algoritmo usamos una variable como índice (i), esta va a comenzar en 1 y se va a incrementar después de cada iteración."
      ]
    },
    {
      "cell_type": "code",
      "metadata": {
        "id": "x1_DXcMoG6lp",
        "colab_type": "code",
        "outputId": "fdcf293f-74ab-4ece-e712-81cbfd7288c4",
        "colab": {
          "base_uri": "https://localhost:8080/",
          "height": 34
        }
      },
      "source": [
        "%%writefile basicWhileLoop.java\n",
        "import java.util.Scanner; \n",
        "class BasicWhileLoop \n",
        "{ \n",
        "    public static void main(String args[]) \n",
        "    { \n",
        "      Scanner s = new Scanner(System.in); // nuestra herramienta para leer datos\n",
        "      int n,i;\n",
        "      System.out.println(\"Digite el número de iteraciones\"); \n",
        "      n = s.nextInt();\n",
        "      i = 1; // vamos a usar esta variable como nuestro indice\n",
        "      while( n >= i) { // vamos realizar la acción mienstras que n >= i\n",
        "        System.out.println(\"Esta es la acción \"+i);\n",
        "        i = i + 1; // aumentamos el indice \n",
        "      }\n",
        "      System.out.println(\"Terminamos\"); \n",
        "    } \n",
        "} \n"
      ],
      "execution_count": 0,
      "outputs": [
        {
          "output_type": "stream",
          "text": [
            "Overwriting basicWhileLoop.java\n"
          ],
          "name": "stdout"
        }
      ]
    },
    {
      "cell_type": "code",
      "metadata": {
        "id": "kh6Xs0g18_bI",
        "colab_type": "code",
        "outputId": "dbd36cad-2ff2-4010-dadf-56551dce9b5d",
        "colab": {
          "base_uri": "https://localhost:8080/",
          "height": 153
        }
      },
      "source": [
        "!java basicWhileLoop.java"
      ],
      "execution_count": 0,
      "outputs": [
        {
          "output_type": "stream",
          "text": [
            "Digite el número de iteraciones \n",
            "5\n",
            "Esta es la acción 1\n",
            "Esta es la acción 2\n",
            "Esta es la acción 3\n",
            "Esta es la acción 4\n",
            "Esta es la acción 5\n",
            "Terminamos\n"
          ],
          "name": "stdout"
        }
      ]
    },
    {
      "cell_type": "markdown",
      "metadata": {
        "id": "T05g2sJYJ2CG",
        "colab_type": "text"
      },
      "source": [
        "Con este modelo listo podemos pensar en algunos de los usos más comunes de los ciclos en algoritmos que reflejan actividades del día a día."
      ]
    },
    {
      "cell_type": "markdown",
      "metadata": {
        "id": "OuMeQhYRKAiA",
        "colab_type": "text"
      },
      "source": [
        "# Contador\n",
        "\n",
        "En este tipo de ejercicios queremos contar el número de veces que una condición especifica se cumpla dentro del ciclo, en el siguiente ejemplo vamos a pedirle al usuario N números y contar cuántos de ellos son mayores que 10."
      ]
    },
    {
      "cell_type": "code",
      "metadata": {
        "id": "XcfJGUkQKJSv",
        "colab_type": "code",
        "outputId": "9c957e45-a490-4bed-8113-c04ef253cd4b",
        "colab": {
          "base_uri": "https://localhost:8080/",
          "height": 34
        }
      },
      "source": [
        "%%writefile basicWhileLoopCounter.java\n",
        "import java.util.Scanner; \n",
        "class BasicWhileLoopCounter \n",
        "{ \n",
        "    public static void main(String args[]) \n",
        "    { \n",
        "      Scanner s = new Scanner(System.in); // nuestra herramienta para leer datos\n",
        "      int n,i,v,c;\n",
        "      System.out.println(\"Digite el número de iteraciones\"); \n",
        "      n = s.nextInt();\n",
        "      i = 1; // vamos a usar esta variable como nuestro indice\n",
        "      c = 0; // este es nuestro contador, que comienza en 0\n",
        "      while( n >= i) { // vamos realizar la acción mienstras que n >= i\n",
        "        System.out.println(\"Digite el \"+i+\" número\");   // también podemos usar el indice para mostrar avance\n",
        "        v = s.nextInt(); \n",
        "        if (v > 10){\n",
        "            c = c + 1; // cuando v > 0 aumentamos el valor del contador\n",
        "        }\n",
        "        i = i + 1; // aumentamos el indice \n",
        "      }\n",
        "      System.out.println(\"La cantidad de valores mayores que 10 es \"+c); \n",
        "    } \n",
        "} "
      ],
      "execution_count": 0,
      "outputs": [
        {
          "output_type": "stream",
          "text": [
            "Overwriting basicWhileLoopCounter.java\n"
          ],
          "name": "stdout"
        }
      ]
    },
    {
      "cell_type": "code",
      "metadata": {
        "id": "ByXuy2sjLB08",
        "colab_type": "code",
        "outputId": "b9ae2776-41ab-46e3-fdd2-470520dcb56b",
        "colab": {
          "base_uri": "https://localhost:8080/",
          "height": 170
        }
      },
      "source": [
        "!java basicWhileLoopCounter.java"
      ],
      "execution_count": 0,
      "outputs": [
        {
          "output_type": "stream",
          "text": [
            "Digite el número de iteraciones\n",
            "3\n",
            "Digite el 1 número\n",
            "2\n",
            "Digite el 2 número\n",
            "8\n",
            "Digite el 3 número\n",
            "20\n",
            "La cantidad de valores mayores que 10 es 1\n"
          ],
          "name": "stdout"
        }
      ]
    },
    {
      "cell_type": "markdown",
      "metadata": {
        "id": "Q1lhyJnJSQOt",
        "colab_type": "text"
      },
      "source": [
        "# Promedio\n",
        "\n",
        "Aquí queremos obtener el promedio de los valores ingresados por el usuario en cada iteración, primero vamos a mostrar un ejemplo simple:\n",
        "\n"
      ]
    },
    {
      "cell_type": "code",
      "metadata": {
        "id": "a40l7YQTSlTI",
        "colab_type": "code",
        "outputId": "9a709089-070f-44cc-8e16-003bd134f207",
        "colab": {
          "base_uri": "https://localhost:8080/",
          "height": 34
        }
      },
      "source": [
        "%%writefile basicWhileLoopAvarage.java\n",
        "import java.util.Scanner; \n",
        "class BasicWhileLoopAverage \n",
        "{ \n",
        "    public static void main(String args[]) \n",
        "    { \n",
        "      Scanner s = new Scanner(System.in); // nuestra herramienta para leer datos\n",
        "      int n,i;\n",
        "      double v,p;\n",
        "      System.out.println(\"Digite el número de iteraciones\"); \n",
        "      n = s.nextInt();\n",
        "      i = 1; // vamos a usar esta variable como nuestro indice\n",
        "      p = 0; // esta es la variable que vamos a usar para el promedio\n",
        "      while( n >= i) { // vamos realizar la acción mienstras que n >= i\n",
        "        System.out.println(\"Digite el \"+i+\" número\");   // también podemos usar el indice para mostrar avance\n",
        "        v = s.nextDouble(); \n",
        "        p = p + v;  // aquí acumulamos los valores de v\n",
        "        i = i + 1; // aumentamos el indice \n",
        "      }\n",
        "      p = p / n;  // el promedio es igual a la suma de los valores entre la cantidad de valores\n",
        "      System.out.println(\"El promedio es \"+p); \n",
        "    } \n",
        "} "
      ],
      "execution_count": 0,
      "outputs": [
        {
          "output_type": "stream",
          "text": [
            "Overwriting basicWhileLoopAvarage.java\n"
          ],
          "name": "stdout"
        }
      ]
    },
    {
      "cell_type": "code",
      "metadata": {
        "id": "gkTY8yLdcQc2",
        "colab_type": "code",
        "outputId": "74a44fe1-dd39-4730-864f-9dd4817bcdc7",
        "colab": {
          "base_uri": "https://localhost:8080/",
          "height": 170
        }
      },
      "source": [
        "!java basicWhileLoopAvarage.java"
      ],
      "execution_count": 0,
      "outputs": [
        {
          "output_type": "stream",
          "text": [
            "Digite el número de iteraciones\n",
            "3\n",
            "Digite el 1 número\n",
            "4.5\n",
            "Digite el 2 número\n",
            "5\n",
            "Digite el 3 número\n",
            "4\n",
            "El promedio es 4.5\n"
          ],
          "name": "stdout"
        }
      ]
    },
    {
      "cell_type": "markdown",
      "metadata": {
        "id": "IEiESkNecoFV",
        "colab_type": "text"
      },
      "source": [
        "En este segundo ejemplo vamos a sacar el promedio de los valores que cumplan una condición, combinando el código del ejemplo de contadores y el de promedios."
      ]
    },
    {
      "cell_type": "code",
      "metadata": {
        "id": "45qm0d1TcvwE",
        "colab_type": "code",
        "outputId": "56582293-1fe5-4b3f-c8ad-a725ea3bd9e0",
        "colab": {
          "base_uri": "https://localhost:8080/",
          "height": 34
        }
      },
      "source": [
        "%%writefile basicWhileLoopConditionAvarage.java\n",
        "import java.util.Scanner; \n",
        "class BasicWhileLoopConditionAverage \n",
        "{ \n",
        "    public static void main(String args[]) \n",
        "    { \n",
        "      Scanner s = new Scanner(System.in); // nuestra herramienta para leer datos\n",
        "      int n,i,c;\n",
        "      double v,p;\n",
        "      System.out.println(\"Digite el número de iteraciones\"); \n",
        "      n = s.nextInt();\n",
        "      i = 1; // vamos a usar esta variable como nuestro indice\n",
        "      p = 0; // esta es la variable que vamos a usar para el promedio\n",
        "      c = 0;\n",
        "      while( n >= i) { // vamos realizar la acción mienstras que n >= i\n",
        "        System.out.println(\"Digite el \"+i+\" número\");   // también podemos usar el indice para mostrar avance\n",
        "        v = s.nextDouble(); \n",
        "        if (v > 10){\n",
        "            p = p + v;  // aquí acumulamos los valores de v   \n",
        "            c = c + 1;\n",
        "        }\n",
        "        i = i + 1; // aumentamos el indice \n",
        "      }\n",
        "      if (c == 0){ // nos cuidamos de no dividir por cero\n",
        "          p = 0;\n",
        "      } else {\n",
        "        p = p / c; // el promedio es igual a la suma de los valores entre la cantidad de valores\n",
        "                  // tener en cuenta que estamos dividiendo entre c, la variable que tiene el número de valores\n",
        "                  // del que vamos a sscar el promedio  \n",
        "      }\n",
        "\n",
        "      System.out.println(\"El promedio es \"+p); \n",
        "    } \n",
        "} "
      ],
      "execution_count": 0,
      "outputs": [
        {
          "output_type": "stream",
          "text": [
            "Overwriting basicWhileLoopConditionAvarage.java\n"
          ],
          "name": "stdout"
        }
      ]
    },
    {
      "cell_type": "code",
      "metadata": {
        "id": "M_DVSmYEd-Iw",
        "colab_type": "code",
        "outputId": "6da6346a-66c3-48d4-f2b5-6d33bb8862b7",
        "colab": {
          "base_uri": "https://localhost:8080/",
          "height": 170
        }
      },
      "source": [
        "!java basicWhileLoopConditionAvarage.java"
      ],
      "execution_count": 0,
      "outputs": [
        {
          "output_type": "stream",
          "text": [
            "Digite el número de iteraciones\n",
            "3\n",
            "Digite el 1 número\n",
            "11\n",
            "Digite el 2 número\n",
            "2\n",
            "Digite el 3 número\n",
            "3\n",
            "El promedio es 11.0\n"
          ],
          "name": "stdout"
        }
      ]
    },
    {
      "cell_type": "markdown",
      "metadata": {
        "id": "BPdFvhOAOLZw",
        "colab_type": "text"
      },
      "source": [
        "# Mayor\n",
        "\n",
        "En este ejercicio vamos a devolver el mayor entre los N números ingresados por el usuario, la estrategia es usar una variable llamada mayor que será inicializada en 0 (asumiendo que los valores son positivos) y después comparada con los valores ingresados.\n"
      ]
    },
    {
      "cell_type": "code",
      "metadata": {
        "id": "LNeGfw0wORPw",
        "colab_type": "code",
        "colab": {
          "base_uri": "https://localhost:8080/",
          "height": 34
        },
        "outputId": "f2667d8b-8e2e-45f4-ecf7-41596ba93051"
      },
      "source": [
        "%%writefile basicWhileLoopGreaterValue.java\n",
        "import java.util.Scanner; \n",
        "class BasicWhileLoopGreaterValue \n",
        "{ \n",
        "    public static void main(String args[]) \n",
        "    { \n",
        "      Scanner s = new Scanner(System.in); // nuestra herramienta para leer datos\n",
        "      int n,i,v,mayor;\n",
        "      System.out.println(\"Digite el número de iteraciones\"); \n",
        "      n = s.nextInt();\n",
        "      i = 1; // vamos a usar esta variable como nuestro indice\n",
        "      mayor = 0; // variable para almacenar el mayor\n",
        "      while( n >= i) { // vamos realizar la acción mienstras que n >= i\n",
        "        System.out.println(\"Digite el \"+i+\" número\");   // también podemos usar el indice para mostrar avance\n",
        "        v = s.nextInt(); \n",
        "        if (v > mayor){ // es v mayor que nuestro mayor?\n",
        "            mayor = v;  // hacemos v nuestro nuevo mayor  \n",
        "        }\n",
        "        i = i + 1; // aumentamos el indice \n",
        "      }\n",
        "      \n",
        "      System.out.println(\"El mayor valor es \"+mayor); \n",
        "    } \n",
        "} "
      ],
      "execution_count": 3,
      "outputs": [
        {
          "output_type": "stream",
          "text": [
            "Overwriting basicWhileLoopGreaterValue.java\n"
          ],
          "name": "stdout"
        }
      ]
    },
    {
      "cell_type": "code",
      "metadata": {
        "id": "RQIL03RKPXSB",
        "colab_type": "code",
        "colab": {
          "base_uri": "https://localhost:8080/",
          "height": 170
        },
        "outputId": "15120bfb-b444-4148-c871-f552ae37c23c"
      },
      "source": [
        "!java basicWhileLoopGreaterValue.java"
      ],
      "execution_count": 4,
      "outputs": [
        {
          "output_type": "stream",
          "text": [
            "Digite el número de iteraciones\n",
            "3\n",
            "Digite el 1 número\n",
            "2\n",
            "Digite el 2 número\n",
            "3\n",
            "Digite el 3 número\n",
            "1\n",
            "El mayor valor es 3\n"
          ],
          "name": "stdout"
        }
      ]
    },
    {
      "cell_type": "code",
      "metadata": {
        "id": "R3MrQEqOU_20",
        "colab_type": "code",
        "colab": {
          "base_uri": "https://localhost:8080/",
          "height": 34
        },
        "outputId": "5884b896-82df-4dc2-c475-7db2ebf7ed29"
      },
      "source": [
        "%%writefile basicWhileLoopGreaterValueV2.java\n",
        "import java.util.Scanner; \n",
        "class basicWhileLoopGreaterValueV2 \n",
        "{ \n",
        "    public static void main(String args[]) \n",
        "    { \n",
        "      Scanner s = new Scanner(System.in); // nuestra herramienta para leer datos\n",
        "      int n,i,v,mayor;\n",
        "      System.out.println(\"Digite el número de iteraciones\"); \n",
        "      n = s.nextInt();\n",
        "      i = 1; // vamos a usar esta variable como nuestro indice\n",
        "      mayor = 0;  \n",
        "      while( n >= i) { // vamos realizar la acción mienstras que n >= i\n",
        "        System.out.println(\"Digite el \"+i+\" número\");   // también podemos usar el indice para mostrar avance\n",
        "        v = s.nextInt(); \n",
        "        if (i == 1){    // la primera iteración\n",
        "            mayor = v; // el primer v será nuestro primer mayor\n",
        "        } else {\n",
        "          if (v > mayor){ // es v mayor que nuestro mayor?\n",
        "              mayor = v;  // hacemos v nuestro nuevo mayor  \n",
        "          }\n",
        "        }\n",
        "        i = i + 1; // aumentamos el indice \n",
        "      }\n",
        "      \n",
        "      System.out.println(\"El mayor valor es \"+mayor); \n",
        "    } \n",
        "} "
      ],
      "execution_count": 11,
      "outputs": [
        {
          "output_type": "stream",
          "text": [
            "Overwriting basicWhileLoopGreaterValueV2.java\n"
          ],
          "name": "stdout"
        }
      ]
    },
    {
      "cell_type": "code",
      "metadata": {
        "id": "eJQ7QYmxVecX",
        "colab_type": "code",
        "colab": {
          "base_uri": "https://localhost:8080/",
          "height": 170
        },
        "outputId": "2391eb5e-1863-40f7-da48-11551be05553"
      },
      "source": [
        "!java basicWhileLoopGreaterValueV2.java"
      ],
      "execution_count": 12,
      "outputs": [
        {
          "output_type": "stream",
          "text": [
            "Digite el número de iteraciones\n",
            "3\n",
            "Digite el 1 número\n",
            "2\n",
            "Digite el 2 número\n",
            "1\n",
            "Digite el 3 número\n",
            "3\n",
            "El mayor valor es 3\n"
          ],
          "name": "stdout"
        }
      ]
    },
    {
      "cell_type": "markdown",
      "metadata": {
        "id": "gZu0oRCmU9Ol",
        "colab_type": "text"
      },
      "source": [
        "En los casos en que no sabemos el rango de los valores que van a ser ingresados se inicializa el mayor con el primer dato ingresado.\n",
        "\n"
      ]
    },
    {
      "cell_type": "markdown",
      "metadata": {
        "id": "gjLOWyu1Ra5w",
        "colab_type": "text"
      },
      "source": [
        "# Menor\n",
        "\n",
        "Este ejercicio sigue la misma formula para encontrar el menor de los valores, vamos a inicializar la variable menor en 100 asumiendo que el mayor valor que nos van a dar es 100.\n"
      ]
    },
    {
      "cell_type": "code",
      "metadata": {
        "id": "uCgnPtetSEki",
        "colab_type": "code",
        "colab": {
          "base_uri": "https://localhost:8080/",
          "height": 34
        },
        "outputId": "01ee9aad-0bd8-40f2-a736-027054aac72a"
      },
      "source": [
        "%%writefile BasicWhileLoopSmallerValue.java\n",
        "import java.util.Scanner; \n",
        "class BasicWhileLoopSmallerValue \n",
        "{ \n",
        "    public static void main(String args[]) \n",
        "    { \n",
        "      Scanner s = new Scanner(System.in); // nuestra herramienta para leer datos\n",
        "      int n,i,v,menor;\n",
        "      System.out.println(\"Digite el número de iteraciones\"); \n",
        "      n = s.nextInt();\n",
        "      i = 1; // vamos a usar esta variable como nuestro indice\n",
        "      menor = 100; // variable para almacenar el menor\n",
        "      while( n >= i) { // vamos realizar la acción mienstras que n >= i\n",
        "        System.out.println(\"Digite el \"+i+\" número\");   // también podemos usar el indice para mostrar avance\n",
        "        v = s.nextInt(); \n",
        "        if (v < menor){ // es v menor que nuestro menor?\n",
        "            menor = v;  // hacemos v nuestro nuevo menor  \n",
        "        }\n",
        "        i = i + 1; // aumentamos el indice \n",
        "      }\n",
        "      \n",
        "      System.out.println(\"El menor valor es \"+menor); \n",
        "    } \n",
        "} "
      ],
      "execution_count": 7,
      "outputs": [
        {
          "output_type": "stream",
          "text": [
            "Overwriting BasicWhileLoopSmallerValue.java\n"
          ],
          "name": "stdout"
        }
      ]
    },
    {
      "cell_type": "code",
      "metadata": {
        "id": "z1Dy4-KeSPjQ",
        "colab_type": "code",
        "colab": {
          "base_uri": "https://localhost:8080/",
          "height": 170
        },
        "outputId": "733b0e64-88e6-4329-d9ce-4fd9fdef63ba"
      },
      "source": [
        "!java BasicWhileLoopSmallerValue.java"
      ],
      "execution_count": 8,
      "outputs": [
        {
          "output_type": "stream",
          "text": [
            "Digite el número de iteraciones\n",
            "3\n",
            "Digite el 1 número\n",
            "1\n",
            "Digite el 2 número\n",
            "3\n",
            "Digite el 3 número\n",
            "2\n",
            "El menor valor es 1\n"
          ],
          "name": "stdout"
        }
      ]
    },
    {
      "cell_type": "markdown",
      "metadata": {
        "id": "RSj53BXcW0KG",
        "colab_type": "text"
      },
      "source": [
        "En los casos en que no sabemos el rango de los valores que van a ser ingresados se inicializa el menor con el primer dato ingresado."
      ]
    },
    {
      "cell_type": "code",
      "metadata": {
        "id": "bo1gp0Y8W5Zr",
        "colab_type": "code",
        "colab": {
          "base_uri": "https://localhost:8080/",
          "height": 34
        },
        "outputId": "71a376a7-823f-44c4-b2ec-658564468513"
      },
      "source": [
        "%%writefile BasicWhileLoopSmallerValueV2.java\n",
        "import java.util.Scanner; \n",
        "class BasicWhileLoopSmallerValueV2 \n",
        "{ \n",
        "    public static void main(String args[]) \n",
        "    { \n",
        "      Scanner s = new Scanner(System.in); // nuestra herramienta para leer datos\n",
        "      int n,i,v,menor;\n",
        "      System.out.println(\"Digite el número de iteraciones\"); \n",
        "      n = s.nextInt();\n",
        "      i = 1; // vamos a usar esta variable como nuestro indice\n",
        "      menor = 0;  \n",
        "      while( n >= i) { // vamos realizar la acción mienstras que n >= i\n",
        "        System.out.println(\"Digite el \"+i+\" número\");   // también podemos usar el indice para mostrar avance\n",
        "        v = s.nextInt(); \n",
        "        if (i == 1){    // la primera iteración\n",
        "            menor = v; // el primer v será nuestro primer mayor\n",
        "        } else {\n",
        "          if (v < menor){ // es v menor que nuestro menor?\n",
        "              menor = v;  // hacemos v nuestro nuevo menor  \n",
        "          }\n",
        "        }\n",
        "        i = i + 1; // aumentamos el indice \n",
        "      }\n",
        "      \n",
        "      System.out.println(\"El menor valor es \"+menor); \n",
        "    } \n",
        "} "
      ],
      "execution_count": 14,
      "outputs": [
        {
          "output_type": "stream",
          "text": [
            "Writing BasicWhileLoopSmallerValueV2.java\n"
          ],
          "name": "stdout"
        }
      ]
    },
    {
      "cell_type": "code",
      "metadata": {
        "id": "Co26gvw0XQoI",
        "colab_type": "code",
        "colab": {
          "base_uri": "https://localhost:8080/",
          "height": 170
        },
        "outputId": "4e54ee29-9f95-4a62-abb1-badc475547b1"
      },
      "source": [
        "!java BasicWhileLoopSmallerValue.java"
      ],
      "execution_count": 15,
      "outputs": [
        {
          "output_type": "stream",
          "text": [
            "Digite el número de iteraciones\n",
            "3\n",
            "Digite el 1 número\n",
            "2\n",
            "Digite el 2 número\n",
            "1\n",
            "Digite el 3 número\n",
            "4\n",
            "El menor valor es 1\n"
          ],
          "name": "stdout"
        }
      ]
    },
    {
      "cell_type": "markdown",
      "metadata": {
        "id": "mZAIEYBFu9_T",
        "colab_type": "text"
      },
      "source": [
        "# Condiciones complejas\n",
        "\n",
        "Hasta ahora hemos trabajado con una condición sencilla en la que nos limitamos a verificar que el índice sea menor o igual al número de iteraciones esperadas. En los siguientes ejercicios vamos a ver algunos de los casos en que hay que trabajar con condiciones complejas."
      ]
    },
    {
      "cell_type": "markdown",
      "metadata": {
        "id": "rqH0PybY4eS8",
        "colab_type": "text"
      },
      "source": [
        "# Buscar un subconjunto dentro de N elementos\n",
        "\n",
        "Un ejemplo bastante común es en el cual tenemos un conjunto de N elementos sobre el que queremos encontrar un subconjunto de X elementos con alguna característica en común. Las salidas sería la confirmación si ese subconjunto fue encontrado.\n",
        "\n",
        "Por ejemplo, dentro de un conjunto de N números buscar X pares.\n"
      ]
    },
    {
      "cell_type": "code",
      "metadata": {
        "id": "TLolTDSp4_9y",
        "colab_type": "code",
        "colab": {
          "base_uri": "https://localhost:8080/",
          "height": 34
        },
        "outputId": "d808e395-6e02-4335-b019-c6f6c03bde1d"
      },
      "source": [
        "%%writefile BasicWhileLoopEvenNumbers.java\n",
        "import java.util.Scanner; \n",
        "class BasicWhileLoopEvenNumbers \n",
        "{ \n",
        "    public static void main(String args[]) \n",
        "    { \n",
        "      Scanner s = new Scanner(System.in); // nuestra herramienta para leer datos\n",
        "      int n,x,i,v,c;\n",
        "      System.out.println(\"Digite el número de iteraciones\"); \n",
        "      n = s.nextInt();\n",
        "      System.out.println(\"Digite el número de pares a encontrar\"); \n",
        "      x = s.nextInt();   \n",
        "      i = 1; // vamos a usar esta variable como nuestro indice \n",
        "      c = 0;\n",
        "      while(( n >= i)&&(x > c)) { // vamos realizar la acción mienstras que n >= i\n",
        "                                 // y no hayamos encontrado X pares\n",
        "        System.out.println(\"Digite el \"+i+\" número\");   // también podemos usar el indice para mostrar avance\n",
        "        v = s.nextInt(); \n",
        "        if (v % 2 == 0){    // es par?\n",
        "            c = c + 1; // encontramos un par, aumentamos el contador\n",
        "        }\n",
        "        i = i + 1; // aumentamos el indice \n",
        "      }\n",
        "      if (c == x){\n",
        "          System.out.println(\"Se encontraron los \"+x+\" pares\"); \n",
        "      } else {\n",
        "          System.out.println(\"No se encontraron los \"+x+\" pares\"); \n",
        "      }\n",
        "      \n",
        "    } \n",
        "} "
      ],
      "execution_count": 3,
      "outputs": [
        {
          "output_type": "stream",
          "text": [
            "Overwriting BasicWhileLoopEvenNumbers.java\n"
          ],
          "name": "stdout"
        }
      ]
    },
    {
      "cell_type": "code",
      "metadata": {
        "id": "Fbh7r3fc59wX",
        "colab_type": "code",
        "colab": {
          "base_uri": "https://localhost:8080/",
          "height": 136
        },
        "outputId": "bfc20b41-81a0-4042-bc1f-65a8119b44de"
      },
      "source": [
        "!java BasicWhileLoopEvenNumbers.java"
      ],
      "execution_count": 5,
      "outputs": [
        {
          "output_type": "stream",
          "text": [
            "Digite el número de iteraciones\n",
            "3\n",
            "Digite el número de pares a encontrar\n",
            "1\n",
            "Digite el 1 número\n",
            "2\n",
            "Se encontraron los 1 pares\n"
          ],
          "name": "stdout"
        }
      ]
    },
    {
      "cell_type": "markdown",
      "metadata": {
        "id": "w8wJmKwU9jZe",
        "colab_type": "text"
      },
      "source": [
        "# Buscar N elementos dentro de un conjunto ilimitado  \n",
        "\n",
        "Una variación del caso anterior, en el cuál nuestro ciclo ya no depende del índice sino de un contador que se incrementa ante la ocurrencia de una condición dentro de cada iteración.\n",
        "\n",
        "Por ejemplo, solicitar números hasta que se encuentren N pares.\n"
      ]
    },
    {
      "cell_type": "code",
      "metadata": {
        "id": "eKK4CWhO9mHN",
        "colab_type": "code",
        "colab": {
          "base_uri": "https://localhost:8080/",
          "height": 34
        },
        "outputId": "fc725635-516c-48c6-8334-3dc4bb5b413c"
      },
      "source": [
        "%%writefile BasicWhileLoopUntilFindNEvenNumbers.java\n",
        "import java.util.Scanner; \n",
        "class BasicWhileLoopUntilFindNEvenNumbers \n",
        "{ \n",
        "    public static void main(String args[]) \n",
        "    { \n",
        "      Scanner s = new Scanner(System.in); // nuestra herramienta para leer datos\n",
        "      int n,v,c;\n",
        "      System.out.println(\"Digite el número de pares a encontrar\"); \n",
        "      n = s.nextInt();   \n",
        "      c = 0;  // el contador de pares\n",
        "      while(n > c) { // vamos realizar la acción mienstras que n >= i\n",
        "                                 // y no hayamos encontrado X pares\n",
        "        System.out.println(\"Digite el número\");   // también podemos usar el indice para mostrar avance\n",
        "        v = s.nextInt(); \n",
        "        if (v % 2 == 0){    // es par?\n",
        "            c = c + 1; // encontramos un par, aumentamos el contador\n",
        "        }  \n",
        "      }\n",
        "      System.out.println(\"Terminamos\"); \n",
        "      \n",
        "    } \n",
        "} "
      ],
      "execution_count": 9,
      "outputs": [
        {
          "output_type": "stream",
          "text": [
            "Overwriting BasicWhileLoopUntilFindNEvenNumbers.java\n"
          ],
          "name": "stdout"
        }
      ]
    },
    {
      "cell_type": "code",
      "metadata": {
        "id": "pF1GuI0m-qew",
        "colab_type": "code",
        "colab": {
          "base_uri": "https://localhost:8080/",
          "height": 272
        },
        "outputId": "254f38c3-2f44-4d62-f395-54da3addaadd"
      },
      "source": [
        "!java BasicWhileLoopUntilFindNEvenNumbers.java"
      ],
      "execution_count": 10,
      "outputs": [
        {
          "output_type": "stream",
          "text": [
            "Digite el número de pares a encontrar\n",
            "3\n",
            "Digite el número\n",
            "1\n",
            "Digite el número\n",
            "2\n",
            "Digite el número\n",
            "3\n",
            "Digite el número\n",
            "4\n",
            "Digite el número\n",
            "5\n",
            "Digite el número\n",
            "6\n",
            "Terminamos\n"
          ],
          "name": "stdout"
        }
      ]
    },
    {
      "cell_type": "markdown",
      "metadata": {
        "id": "nnrCi1PnAbbH",
        "colab_type": "text"
      },
      "source": [
        "# Iterar hasta que el usuario lo decida\n",
        "\n",
        "En este caso vamos a realizar la acción hasta que el usuario decida terminar el ciclo, en este caso la condición debe depender de una entrada de un dato de entrada. Para la estructura del MientrasQue debemos inicializar ese dato de entrada antes de la primera iteración y realizar la lectura después de la misma.\n",
        "\n",
        "Por ejemplo, solicitar números contando ocurrencias de pares e impares hasta que el usuario lo decida.\n"
      ]
    },
    {
      "cell_type": "code",
      "metadata": {
        "id": "1dRFXDlxBAFs",
        "colab_type": "code",
        "colab": {
          "base_uri": "https://localhost:8080/",
          "height": 34
        },
        "outputId": "f640ba25-c151-486c-a50a-bfc88a01e21f"
      },
      "source": [
        "%%writefile BasicWhileLoopUntilUserInput.java\n",
        "import java.util.Scanner; \n",
        "class BasicWhileLoopUntilUserInput \n",
        "{ \n",
        "    public static void main(String args[]) \n",
        "    { \n",
        "      Scanner s = new Scanner(System.in); // nuestra herramienta para leer datos\n",
        "      int v,c_par, c_impar, continuar;\n",
        "      c_par = 0;  // el contador de pares\n",
        "      c_impar = 0; // el contador de impares\n",
        "      continuar = 1;\n",
        "      while(continuar == 1) { \n",
        "        System.out.println(\"Digite un número\");   // también podemos usar el indice para mostrar avance\n",
        "        v = s.nextInt(); \n",
        "        if (v % 2 == 0){    // es par?\n",
        "            c_par = c_par + 1; // encontramos un par, aumentamos el contador\n",
        "        } else {\n",
        "            c_impar = c_impar + 1; // encontramos un impar, aumentamos el contador\n",
        "        }\n",
        "        System.out.println(\"¿Quiere continuar? (1 para SI, 0 para No)\"); \n",
        "        continuar = s.nextInt();\n",
        "      }\n",
        "      System.out.println(\"Terminamos con \"+c_par+\" pares\"); \n",
        "     System.out.println(\"Terminamos con \"+c_impar+\" impares\"); \n",
        "      \n",
        "    } \n",
        "} "
      ],
      "execution_count": 15,
      "outputs": [
        {
          "output_type": "stream",
          "text": [
            "Overwriting BasicWhileLoopUntilUserInput.java\n"
          ],
          "name": "stdout"
        }
      ]
    },
    {
      "cell_type": "code",
      "metadata": {
        "id": "a4kyGoncCHWN",
        "colab_type": "code",
        "colab": {
          "base_uri": "https://localhost:8080/",
          "height": 255
        },
        "outputId": "6a6e477f-61ef-40fa-cdc6-3e0fd1a435e5"
      },
      "source": [
        "!java BasicWhileLoopUntilUserInput.java"
      ],
      "execution_count": 16,
      "outputs": [
        {
          "output_type": "stream",
          "text": [
            "Digite un número\n",
            "2\n",
            "¿Quiere continuar? (1 para SI, 0 para No)\n",
            "1\n",
            "Digite un número\n",
            "3\n",
            "¿Quiere continuar? (1 para SI, 0 para No)\n",
            "1\n",
            "Digite un número\n",
            "4\n",
            "¿Quiere continuar? (1 para SI, 0 para No)\n",
            "0\n",
            "Terminamos con 2 pares\n",
            "Terminamos con 1 impares\n"
          ],
          "name": "stdout"
        }
      ]
    }
  ]
}